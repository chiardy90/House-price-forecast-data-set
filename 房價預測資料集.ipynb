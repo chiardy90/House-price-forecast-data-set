{
  "nbformat": 4,
  "nbformat_minor": 0,
  "metadata": {
    "colab": {
      "name": "房價預測資料集.ipynb",
      "provenance": [],
      "authorship_tag": "ABX9TyOSj3UJzuMCzt22aOsTPTpK",
      "include_colab_link": true
    },
    "kernelspec": {
      "name": "python3",
      "display_name": "Python 3"
    },
    "language_info": {
      "name": "python"
    }
  },
  "cells": [
    {
      "cell_type": "markdown",
      "metadata": {
        "id": "view-in-github",
        "colab_type": "text"
      },
      "source": [
        "<a href=\"https://colab.research.google.com/github/chiardy90/House-price-forecast-data-set/blob/main/%E6%88%BF%E5%83%B9%E9%A0%90%E6%B8%AC%E8%B3%87%E6%96%99%E9%9B%86.ipynb\" target=\"_parent\"><img src=\"https://colab.research.google.com/assets/colab-badge.svg\" alt=\"Open In Colab\"/></a>"
      ]
    },
    {
      "cell_type": "markdown",
      "source": [
        "# **Using SVR to implement a house price forecast data set.**"
      ],
      "metadata": {
        "id": "fG5yIdS-ZHFi"
      }
    },
    {
      "cell_type": "markdown",
      "source": [
        "# Step 1: Go to [kaggle.com](https://www.kaggle.com/datasets/shree1992/housedata) to download the data set \"House price prediction\".\n"
      ],
      "metadata": {
        "id": "iU7T4hL9Pvjx"
      }
    },
    {
      "cell_type": "code",
      "execution_count": null,
      "metadata": {
        "id": "9G8FN4N8P_6J"
      },
      "outputs": [],
      "source": [
        "import pandas as pd\n",
        "\n",
        "Dataset = pd.read_csv(\"data.csv\")\n",
        "Dataset.head()"
      ]
    },
    {
      "cell_type": "markdown",
      "source": [
        "# Step 2: Data Visualization and Feature Engineering.\n",
        "*   Handling missing values\n",
        "*   Simple feature engineering after visualization"
      ],
      "metadata": {
        "id": "Xzz18u-RRR9D"
      }
    },
    {
      "cell_type": "code",
      "source": [
        "# Check field for NaN\n",
        "for index, col in enumerate(Dataset.columns):\n",
        "  print(f\"第{index+1}個欄位 {col} 的缺失值共有 {Dataset[col].isnull().sum()} 筆\")"
      ],
      "metadata": {
        "colab": {
          "base_uri": "https://localhost:8080/"
        },
        "id": "-3qb1-mgSCtm",
        "outputId": "037a1831-00e5-4324-c84f-45ea8ee3d1d2"
      },
      "execution_count": null,
      "outputs": [
        {
          "output_type": "stream",
          "name": "stdout",
          "text": [
            "第1個欄位 date 的缺失值共有 0 筆\n",
            "第2個欄位 price 的缺失值共有 0 筆\n",
            "第3個欄位 bedrooms 的缺失值共有 0 筆\n",
            "第4個欄位 bathrooms 的缺失值共有 0 筆\n",
            "第5個欄位 sqft_living 的缺失值共有 0 筆\n",
            "第6個欄位 sqft_lot 的缺失值共有 0 筆\n",
            "第7個欄位 floors 的缺失值共有 0 筆\n",
            "第8個欄位 waterfront 的缺失值共有 0 筆\n",
            "第9個欄位 view 的缺失值共有 0 筆\n",
            "第10個欄位 condition 的缺失值共有 0 筆\n",
            "第11個欄位 sqft_above 的缺失值共有 0 筆\n",
            "第12個欄位 sqft_basement 的缺失值共有 0 筆\n",
            "第13個欄位 yr_built 的缺失值共有 0 筆\n",
            "第14個欄位 yr_renovated 的缺失值共有 0 筆\n",
            "第15個欄位 street 的缺失值共有 0 筆\n",
            "第16個欄位 city 的缺失值共有 0 筆\n",
            "第17個欄位 statezip 的缺失值共有 0 筆\n",
            "第18個欄位 country 的缺失值共有 0 筆\n"
          ]
        }
      ]
    },
    {
      "cell_type": "markdown",
      "source": [
        "1st field"
      ],
      "metadata": {
        "id": "lrcJpd8BSJSG"
      }
    },
    {
      "cell_type": "code",
      "source": [
        "# Understanding Data Distribution\n",
        "print(Dataset[\"date\"])\n",
        "\n",
        "#for each_date in Dataset[\"date\"]:\n",
        "#  print(each_date)"
      ],
      "metadata": {
        "colab": {
          "base_uri": "https://localhost:8080/"
        },
        "id": "JsPAs8DBS0j1",
        "outputId": "b2815c73-bfe1-4052-999f-4ccc38ffe0bc"
      },
      "execution_count": null,
      "outputs": [
        {
          "output_type": "stream",
          "name": "stdout",
          "text": [
            "0       2014-05-02 00:00:00\n",
            "1       2014-05-02 00:00:00\n",
            "2       2014-05-02 00:00:00\n",
            "3       2014-05-02 00:00:00\n",
            "4       2014-05-02 00:00:00\n",
            "               ...         \n",
            "4595    2014-07-09 00:00:00\n",
            "4596    2014-07-09 00:00:00\n",
            "4597    2014-07-09 00:00:00\n",
            "4598    2014-07-10 00:00:00\n",
            "4599    2014-07-10 00:00:00\n",
            "Name: date, Length: 4600, dtype: object\n"
          ]
        }
      ]
    },
    {
      "cell_type": "code",
      "source": [
        "# Perform feature engineering to map raw data(mapping)\n",
        "mapping_rule = {\"05\": \"Time_A\", \"06\": \"Time_B\", \"07\": \"Time_C\"}\n",
        "Dataset[\"date\"] = Dataset.apply(lambda row: mapping_rule[row[\"date\"].split(\"-\")[1]], axis=1)\n",
        "\n",
        "# Know the number of dates that belong to Time_A, Time_B, Time_C\n",
        "print(Dataset[\"date\"].value_counts())\n",
        "\n",
        "Dataset.head()"
      ],
      "metadata": {
        "colab": {
          "base_uri": "https://localhost:8080/",
          "height": 496
        },
        "id": "w6LpZaccS62c",
        "outputId": "6d346a4e-802a-4d7d-b59e-63d53c58bb12"
      },
      "execution_count": null,
      "outputs": [
        {
          "output_type": "stream",
          "name": "stdout",
          "text": [
            "Time_B    2179\n",
            "Time_A    1768\n",
            "Time_C     653\n",
            "Name: date, dtype: int64\n"
          ]
        },
        {
          "output_type": "execute_result",
          "data": {
            "text/plain": [
              "     date      price  bedrooms  bathrooms  sqft_living  sqft_lot  floors  \\\n",
              "0  Time_A   313000.0       3.0       1.50         1340      7912     1.5   \n",
              "1  Time_A  2384000.0       5.0       2.50         3650      9050     2.0   \n",
              "2  Time_A   342000.0       3.0       2.00         1930     11947     1.0   \n",
              "3  Time_A   420000.0       3.0       2.25         2000      8030     1.0   \n",
              "4  Time_A   550000.0       4.0       2.50         1940     10500     1.0   \n",
              "\n",
              "   waterfront  view  condition  sqft_above  sqft_basement  yr_built  \\\n",
              "0           0     0          3        1340              0      1955   \n",
              "1           0     4          5        3370            280      1921   \n",
              "2           0     0          4        1930              0      1966   \n",
              "3           0     0          4        1000           1000      1963   \n",
              "4           0     0          4        1140            800      1976   \n",
              "\n",
              "   yr_renovated                    street       city  statezip country  \n",
              "0          2005      18810 Densmore Ave N  Shoreline  WA 98133     USA  \n",
              "1             0           709 W Blaine St    Seattle  WA 98119     USA  \n",
              "2             0  26206-26214 143rd Ave SE       Kent  WA 98042     USA  \n",
              "3             0           857 170th Pl NE   Bellevue  WA 98008     USA  \n",
              "4          1992         9105 170th Ave NE    Redmond  WA 98052     USA  "
            ],
            "text/html": [
              "\n",
              "  <div id=\"df-900e7a40-d041-4735-85bd-cf182023aa70\">\n",
              "    <div class=\"colab-df-container\">\n",
              "      <div>\n",
              "<style scoped>\n",
              "    .dataframe tbody tr th:only-of-type {\n",
              "        vertical-align: middle;\n",
              "    }\n",
              "\n",
              "    .dataframe tbody tr th {\n",
              "        vertical-align: top;\n",
              "    }\n",
              "\n",
              "    .dataframe thead th {\n",
              "        text-align: right;\n",
              "    }\n",
              "</style>\n",
              "<table border=\"1\" class=\"dataframe\">\n",
              "  <thead>\n",
              "    <tr style=\"text-align: right;\">\n",
              "      <th></th>\n",
              "      <th>date</th>\n",
              "      <th>price</th>\n",
              "      <th>bedrooms</th>\n",
              "      <th>bathrooms</th>\n",
              "      <th>sqft_living</th>\n",
              "      <th>sqft_lot</th>\n",
              "      <th>floors</th>\n",
              "      <th>waterfront</th>\n",
              "      <th>view</th>\n",
              "      <th>condition</th>\n",
              "      <th>sqft_above</th>\n",
              "      <th>sqft_basement</th>\n",
              "      <th>yr_built</th>\n",
              "      <th>yr_renovated</th>\n",
              "      <th>street</th>\n",
              "      <th>city</th>\n",
              "      <th>statezip</th>\n",
              "      <th>country</th>\n",
              "    </tr>\n",
              "  </thead>\n",
              "  <tbody>\n",
              "    <tr>\n",
              "      <th>0</th>\n",
              "      <td>Time_A</td>\n",
              "      <td>313000.0</td>\n",
              "      <td>3.0</td>\n",
              "      <td>1.50</td>\n",
              "      <td>1340</td>\n",
              "      <td>7912</td>\n",
              "      <td>1.5</td>\n",
              "      <td>0</td>\n",
              "      <td>0</td>\n",
              "      <td>3</td>\n",
              "      <td>1340</td>\n",
              "      <td>0</td>\n",
              "      <td>1955</td>\n",
              "      <td>2005</td>\n",
              "      <td>18810 Densmore Ave N</td>\n",
              "      <td>Shoreline</td>\n",
              "      <td>WA 98133</td>\n",
              "      <td>USA</td>\n",
              "    </tr>\n",
              "    <tr>\n",
              "      <th>1</th>\n",
              "      <td>Time_A</td>\n",
              "      <td>2384000.0</td>\n",
              "      <td>5.0</td>\n",
              "      <td>2.50</td>\n",
              "      <td>3650</td>\n",
              "      <td>9050</td>\n",
              "      <td>2.0</td>\n",
              "      <td>0</td>\n",
              "      <td>4</td>\n",
              "      <td>5</td>\n",
              "      <td>3370</td>\n",
              "      <td>280</td>\n",
              "      <td>1921</td>\n",
              "      <td>0</td>\n",
              "      <td>709 W Blaine St</td>\n",
              "      <td>Seattle</td>\n",
              "      <td>WA 98119</td>\n",
              "      <td>USA</td>\n",
              "    </tr>\n",
              "    <tr>\n",
              "      <th>2</th>\n",
              "      <td>Time_A</td>\n",
              "      <td>342000.0</td>\n",
              "      <td>3.0</td>\n",
              "      <td>2.00</td>\n",
              "      <td>1930</td>\n",
              "      <td>11947</td>\n",
              "      <td>1.0</td>\n",
              "      <td>0</td>\n",
              "      <td>0</td>\n",
              "      <td>4</td>\n",
              "      <td>1930</td>\n",
              "      <td>0</td>\n",
              "      <td>1966</td>\n",
              "      <td>0</td>\n",
              "      <td>26206-26214 143rd Ave SE</td>\n",
              "      <td>Kent</td>\n",
              "      <td>WA 98042</td>\n",
              "      <td>USA</td>\n",
              "    </tr>\n",
              "    <tr>\n",
              "      <th>3</th>\n",
              "      <td>Time_A</td>\n",
              "      <td>420000.0</td>\n",
              "      <td>3.0</td>\n",
              "      <td>2.25</td>\n",
              "      <td>2000</td>\n",
              "      <td>8030</td>\n",
              "      <td>1.0</td>\n",
              "      <td>0</td>\n",
              "      <td>0</td>\n",
              "      <td>4</td>\n",
              "      <td>1000</td>\n",
              "      <td>1000</td>\n",
              "      <td>1963</td>\n",
              "      <td>0</td>\n",
              "      <td>857 170th Pl NE</td>\n",
              "      <td>Bellevue</td>\n",
              "      <td>WA 98008</td>\n",
              "      <td>USA</td>\n",
              "    </tr>\n",
              "    <tr>\n",
              "      <th>4</th>\n",
              "      <td>Time_A</td>\n",
              "      <td>550000.0</td>\n",
              "      <td>4.0</td>\n",
              "      <td>2.50</td>\n",
              "      <td>1940</td>\n",
              "      <td>10500</td>\n",
              "      <td>1.0</td>\n",
              "      <td>0</td>\n",
              "      <td>0</td>\n",
              "      <td>4</td>\n",
              "      <td>1140</td>\n",
              "      <td>800</td>\n",
              "      <td>1976</td>\n",
              "      <td>1992</td>\n",
              "      <td>9105 170th Ave NE</td>\n",
              "      <td>Redmond</td>\n",
              "      <td>WA 98052</td>\n",
              "      <td>USA</td>\n",
              "    </tr>\n",
              "  </tbody>\n",
              "</table>\n",
              "</div>\n",
              "      <button class=\"colab-df-convert\" onclick=\"convertToInteractive('df-900e7a40-d041-4735-85bd-cf182023aa70')\"\n",
              "              title=\"Convert this dataframe to an interactive table.\"\n",
              "              style=\"display:none;\">\n",
              "        \n",
              "  <svg xmlns=\"http://www.w3.org/2000/svg\" height=\"24px\"viewBox=\"0 0 24 24\"\n",
              "       width=\"24px\">\n",
              "    <path d=\"M0 0h24v24H0V0z\" fill=\"none\"/>\n",
              "    <path d=\"M18.56 5.44l.94 2.06.94-2.06 2.06-.94-2.06-.94-.94-2.06-.94 2.06-2.06.94zm-11 1L8.5 8.5l.94-2.06 2.06-.94-2.06-.94L8.5 2.5l-.94 2.06-2.06.94zm10 10l.94 2.06.94-2.06 2.06-.94-2.06-.94-.94-2.06-.94 2.06-2.06.94z\"/><path d=\"M17.41 7.96l-1.37-1.37c-.4-.4-.92-.59-1.43-.59-.52 0-1.04.2-1.43.59L10.3 9.45l-7.72 7.72c-.78.78-.78 2.05 0 2.83L4 21.41c.39.39.9.59 1.41.59.51 0 1.02-.2 1.41-.59l7.78-7.78 2.81-2.81c.8-.78.8-2.07 0-2.86zM5.41 20L4 18.59l7.72-7.72 1.47 1.35L5.41 20z\"/>\n",
              "  </svg>\n",
              "      </button>\n",
              "      \n",
              "  <style>\n",
              "    .colab-df-container {\n",
              "      display:flex;\n",
              "      flex-wrap:wrap;\n",
              "      gap: 12px;\n",
              "    }\n",
              "\n",
              "    .colab-df-convert {\n",
              "      background-color: #E8F0FE;\n",
              "      border: none;\n",
              "      border-radius: 50%;\n",
              "      cursor: pointer;\n",
              "      display: none;\n",
              "      fill: #1967D2;\n",
              "      height: 32px;\n",
              "      padding: 0 0 0 0;\n",
              "      width: 32px;\n",
              "    }\n",
              "\n",
              "    .colab-df-convert:hover {\n",
              "      background-color: #E2EBFA;\n",
              "      box-shadow: 0px 1px 2px rgba(60, 64, 67, 0.3), 0px 1px 3px 1px rgba(60, 64, 67, 0.15);\n",
              "      fill: #174EA6;\n",
              "    }\n",
              "\n",
              "    [theme=dark] .colab-df-convert {\n",
              "      background-color: #3B4455;\n",
              "      fill: #D2E3FC;\n",
              "    }\n",
              "\n",
              "    [theme=dark] .colab-df-convert:hover {\n",
              "      background-color: #434B5C;\n",
              "      box-shadow: 0px 1px 3px 1px rgba(0, 0, 0, 0.15);\n",
              "      filter: drop-shadow(0px 1px 2px rgba(0, 0, 0, 0.3));\n",
              "      fill: #FFFFFF;\n",
              "    }\n",
              "  </style>\n",
              "\n",
              "      <script>\n",
              "        const buttonEl =\n",
              "          document.querySelector('#df-900e7a40-d041-4735-85bd-cf182023aa70 button.colab-df-convert');\n",
              "        buttonEl.style.display =\n",
              "          google.colab.kernel.accessAllowed ? 'block' : 'none';\n",
              "\n",
              "        async function convertToInteractive(key) {\n",
              "          const element = document.querySelector('#df-900e7a40-d041-4735-85bd-cf182023aa70');\n",
              "          const dataTable =\n",
              "            await google.colab.kernel.invokeFunction('convertToInteractive',\n",
              "                                                     [key], {});\n",
              "          if (!dataTable) return;\n",
              "\n",
              "          const docLinkHtml = 'Like what you see? Visit the ' +\n",
              "            '<a target=\"_blank\" href=https://colab.research.google.com/notebooks/data_table.ipynb>data table notebook</a>'\n",
              "            + ' to learn more about interactive tables.';\n",
              "          element.innerHTML = '';\n",
              "          dataTable['output_type'] = 'display_data';\n",
              "          await google.colab.output.renderOutput(dataTable, element);\n",
              "          const docLink = document.createElement('div');\n",
              "          docLink.innerHTML = docLinkHtml;\n",
              "          element.appendChild(docLink);\n",
              "        }\n",
              "      </script>\n",
              "    </div>\n",
              "  </div>\n",
              "  "
            ]
          },
          "metadata": {},
          "execution_count": 5
        }
      ]
    },
    {
      "cell_type": "markdown",
      "source": [
        "2nd field(price)"
      ],
      "metadata": {
        "id": "h0BO8jWxS_bm"
      }
    },
    {
      "cell_type": "code",
      "source": [
        "# Visualization with matplotlib\n",
        "import matplotlib.pyplot as plt\n",
        "\n",
        "plt.plot(Dataset[\"price\"])\n",
        "plt.title(\"Price\", fontsize=20)\n",
        "plt.xlabel(\"Instance\", fontsize=18)\n",
        "plt.ylabel(\"Price\", fontsize=18)\n",
        "plt.xticks(fontsize=16)\n",
        "plt.yticks(fontsize=16)\n",
        "plt.show()\n",
        "\n",
        "# Observe that the number 0.5 * 10^7 may be considered as the critical value of the outlier"
      ],
      "metadata": {
        "colab": {
          "base_uri": "https://localhost:8080/",
          "height": 313
        },
        "id": "7B283ecQTH9V",
        "outputId": "89919dc0-90d3-46e2-9342-35df15aac244"
      },
      "execution_count": null,
      "outputs": [
        {
          "output_type": "display_data",
          "data": {
            "text/plain": [
              "<Figure size 432x288 with 1 Axes>"
            ],
            "image/png": "[encoded data removed]"
          },
          "metadata": {
            "needs_background": "light"
          }
        }
      ]
    },
    {
      "cell_type": "code",
      "source": [
        "# Tag data belonging to Outlier \n",
        "Dataset[\"Outlier\"] = Dataset.apply(lambda row: True if row[\"price\"] > 0.5e7 else False, axis=1)\n",
        "print(Dataset[\"Outlier\"].value_counts())\n",
        "\n",
        "Dataset.head()"
      ],
      "metadata": {
        "colab": {
          "base_uri": "https://localhost:8080/",
          "height": 479
        },
        "id": "dv3CShmVT4Bj",
        "outputId": "a7b68cbb-045d-4ce9-d49d-ad2e7682d775"
      },
      "execution_count": null,
      "outputs": [
        {
          "output_type": "stream",
          "name": "stdout",
          "text": [
            "False    4597\n",
            "True        3\n",
            "Name: Outlier, dtype: int64\n"
          ]
        },
        {
          "output_type": "execute_result",
          "data": {
            "text/plain": [
              "     date      price  bedrooms  bathrooms  sqft_living  sqft_lot  floors  \\\n",
              "0  Time_A   313000.0       3.0       1.50         1340      7912     1.5   \n",
              "1  Time_A  2384000.0       5.0       2.50         3650      9050     2.0   \n",
              "2  Time_A   342000.0       3.0       2.00         1930     11947     1.0   \n",
              "3  Time_A   420000.0       3.0       2.25         2000      8030     1.0   \n",
              "4  Time_A   550000.0       4.0       2.50         1940     10500     1.0   \n",
              "\n",
              "   waterfront  view  condition  sqft_above  sqft_basement  yr_built  \\\n",
              "0           0     0          3        1340              0      1955   \n",
              "1           0     4          5        3370            280      1921   \n",
              "2           0     0          4        1930              0      1966   \n",
              "3           0     0          4        1000           1000      1963   \n",
              "4           0     0          4        1140            800      1976   \n",
              "\n",
              "   yr_renovated                    street       city  statezip country  \\\n",
              "0          2005      18810 Densmore Ave N  Shoreline  WA 98133     USA   \n",
              "1             0           709 W Blaine St    Seattle  WA 98119     USA   \n",
              "2             0  26206-26214 143rd Ave SE       Kent  WA 98042     USA   \n",
              "3             0           857 170th Pl NE   Bellevue  WA 98008     USA   \n",
              "4          1992         9105 170th Ave NE    Redmond  WA 98052     USA   \n",
              "\n",
              "   Outlier  \n",
              "0    False  \n",
              "1    False  \n",
              "2    False  \n",
              "3    False  \n",
              "4    False  "
            ],
            "text/html": [
              "\n",
              "  <div id=\"df-c03e7c22-21aa-4a7f-866b-eb15e15e2567\">\n",
              "    <div class=\"colab-df-container\">\n",
              "      <div>\n",
              "<style scoped>\n",
              "    .dataframe tbody tr th:only-of-type {\n",
              "        vertical-align: middle;\n",
              "    }\n",
              "\n",
              "    .dataframe tbody tr th {\n",
              "        vertical-align: top;\n",
              "    }\n",
              "\n",
              "    .dataframe thead th {\n",
              "        text-align: right;\n",
              "    }\n",
              "</style>\n",
              "<table border=\"1\" class=\"dataframe\">\n",
              "  <thead>\n",
              "    <tr style=\"text-align: right;\">\n",
              "      <th></th>\n",
              "      <th>date</th>\n",
              "      <th>price</th>\n",
              "      <th>bedrooms</th>\n",
              "      <th>bathrooms</th>\n",
              "      <th>sqft_living</th>\n",
              "      <th>sqft_lot</th>\n",
              "      <th>floors</th>\n",
              "      <th>waterfront</th>\n",
              "      <th>view</th>\n",
              "      <th>condition</th>\n",
              "      <th>sqft_above</th>\n",
              "      <th>sqft_basement</th>\n",
              "      <th>yr_built</th>\n",
              "      <th>yr_renovated</th>\n",
              "      <th>street</th>\n",
              "      <th>city</th>\n",
              "      <th>statezip</th>\n",
              "      <th>country</th>\n",
              "      <th>Outlier</th>\n",
              "    </tr>\n",
              "  </thead>\n",
              "  <tbody>\n",
              "    <tr>\n",
              "      <th>0</th>\n",
              "      <td>Time_A</td>\n",
              "      <td>313000.0</td>\n",
              "      <td>3.0</td>\n",
              "      <td>1.50</td>\n",
              "      <td>1340</td>\n",
              "      <td>7912</td>\n",
              "      <td>1.5</td>\n",
              "      <td>0</td>\n",
              "      <td>0</td>\n",
              "      <td>3</td>\n",
              "      <td>1340</td>\n",
              "      <td>0</td>\n",
              "      <td>1955</td>\n",
              "      <td>2005</td>\n",
              "      <td>18810 Densmore Ave N</td>\n",
              "      <td>Shoreline</td>\n",
              "      <td>WA 98133</td>\n",
              "      <td>USA</td>\n",
              "      <td>False</td>\n",
              "    </tr>\n",
              "    <tr>\n",
              "      <th>1</th>\n",
              "      <td>Time_A</td>\n",
              "      <td>2384000.0</td>\n",
              "      <td>5.0</td>\n",
              "      <td>2.50</td>\n",
              "      <td>3650</td>\n",
              "      <td>9050</td>\n",
              "      <td>2.0</td>\n",
              "      <td>0</td>\n",
              "      <td>4</td>\n",
              "      <td>5</td>\n",
              "      <td>3370</td>\n",
              "      <td>280</td>\n",
              "      <td>1921</td>\n",
              "      <td>0</td>\n",
              "      <td>709 W Blaine St</td>\n",
              "      <td>Seattle</td>\n",
              "      <td>WA 98119</td>\n",
              "      <td>USA</td>\n",
              "      <td>False</td>\n",
              "    </tr>\n",
              "    <tr>\n",
              "      <th>2</th>\n",
              "      <td>Time_A</td>\n",
              "      <td>342000.0</td>\n",
              "      <td>3.0</td>\n",
              "      <td>2.00</td>\n",
              "      <td>1930</td>\n",
              "      <td>11947</td>\n",
              "      <td>1.0</td>\n",
              "      <td>0</td>\n",
              "      <td>0</td>\n",
              "      <td>4</td>\n",
              "      <td>1930</td>\n",
              "      <td>0</td>\n",
              "      <td>1966</td>\n",
              "      <td>0</td>\n",
              "      <td>26206-26214 143rd Ave SE</td>\n",
              "      <td>Kent</td>\n",
              "      <td>WA 98042</td>\n",
              "      <td>USA</td>\n",
              "      <td>False</td>\n",
              "    </tr>\n",
              "    <tr>\n",
              "      <th>3</th>\n",
              "      <td>Time_A</td>\n",
              "      <td>420000.0</td>\n",
              "      <td>3.0</td>\n",
              "      <td>2.25</td>\n",
              "      <td>2000</td>\n",
              "      <td>8030</td>\n",
              "      <td>1.0</td>\n",
              "      <td>0</td>\n",
              "      <td>0</td>\n",
              "      <td>4</td>\n",
              "      <td>1000</td>\n",
              "      <td>1000</td>\n",
              "      <td>1963</td>\n",
              "      <td>0</td>\n",
              "      <td>857 170th Pl NE</td>\n",
              "      <td>Bellevue</td>\n",
              "      <td>WA 98008</td>\n",
              "      <td>USA</td>\n",
              "      <td>False</td>\n",
              "    </tr>\n",
              "    <tr>\n",
              "      <th>4</th>\n",
              "      <td>Time_A</td>\n",
              "      <td>550000.0</td>\n",
              "      <td>4.0</td>\n",
              "      <td>2.50</td>\n",
              "      <td>1940</td>\n",
              "      <td>10500</td>\n",
              "      <td>1.0</td>\n",
              "      <td>0</td>\n",
              "      <td>0</td>\n",
              "      <td>4</td>\n",
              "      <td>1140</td>\n",
              "      <td>800</td>\n",
              "      <td>1976</td>\n",
              "      <td>1992</td>\n",
              "      <td>9105 170th Ave NE</td>\n",
              "      <td>Redmond</td>\n",
              "      <td>WA 98052</td>\n",
              "      <td>USA</td>\n",
              "      <td>False</td>\n",
              "    </tr>\n",
              "  </tbody>\n",
              "</table>\n",
              "</div>\n",
              "      <button class=\"colab-df-convert\" onclick=\"convertToInteractive('df-c03e7c22-21aa-4a7f-866b-eb15e15e2567')\"\n",
              "              title=\"Convert this dataframe to an interactive table.\"\n",
              "              style=\"display:none;\">\n",
              "        \n",
              "  <svg xmlns=\"http://www.w3.org/2000/svg\" height=\"24px\"viewBox=\"0 0 24 24\"\n",
              "       width=\"24px\">\n",
              "    <path d=\"M0 0h24v24H0V0z\" fill=\"none\"/>\n",
              "    <path d=\"M18.56 5.44l.94 2.06.94-2.06 2.06-.94-2.06-.94-.94-2.06-.94 2.06-2.06.94zm-11 1L8.5 8.5l.94-2.06 2.06-.94-2.06-.94L8.5 2.5l-.94 2.06-2.06.94zm10 10l.94 2.06.94-2.06 2.06-.94-2.06-.94-.94-2.06-.94 2.06-2.06.94z\"/><path d=\"M17.41 7.96l-1.37-1.37c-.4-.4-.92-.59-1.43-.59-.52 0-1.04.2-1.43.59L10.3 9.45l-7.72 7.72c-.78.78-.78 2.05 0 2.83L4 21.41c.39.39.9.59 1.41.59.51 0 1.02-.2 1.41-.59l7.78-7.78 2.81-2.81c.8-.78.8-2.07 0-2.86zM5.41 20L4 18.59l7.72-7.72 1.47 1.35L5.41 20z\"/>\n",
              "  </svg>\n",
              "      </button>\n",
              "      \n",
              "  <style>\n",
              "    .colab-df-container {\n",
              "      display:flex;\n",
              "      flex-wrap:wrap;\n",
              "      gap: 12px;\n",
              "    }\n",
              "\n",
              "    .colab-df-convert {\n",
              "      background-color: #E8F0FE;\n",
              "      border: none;\n",
              "      border-radius: 50%;\n",
              "      cursor: pointer;\n",
              "      display: none;\n",
              "      fill: #1967D2;\n",
              "      height: 32px;\n",
              "      padding: 0 0 0 0;\n",
              "      width: 32px;\n",
              "    }\n",
              "\n",
              "    .colab-df-convert:hover {\n",
              "      background-color: #E2EBFA;\n",
              "      box-shadow: 0px 1px 2px rgba(60, 64, 67, 0.3), 0px 1px 3px 1px rgba(60, 64, 67, 0.15);\n",
              "      fill: #174EA6;\n",
              "    }\n",
              "\n",
              "    [theme=dark] .colab-df-convert {\n",
              "      background-color: #3B4455;\n",
              "      fill: #D2E3FC;\n",
              "    }\n",
              "\n",
              "    [theme=dark] .colab-df-convert:hover {\n",
              "      background-color: #434B5C;\n",
              "      box-shadow: 0px 1px 3px 1px rgba(0, 0, 0, 0.15);\n",
              "      filter: drop-shadow(0px 1px 2px rgba(0, 0, 0, 0.3));\n",
              "      fill: #FFFFFF;\n",
              "    }\n",
              "  </style>\n",
              "\n",
              "      <script>\n",
              "        const buttonEl =\n",
              "          document.querySelector('#df-c03e7c22-21aa-4a7f-866b-eb15e15e2567 button.colab-df-convert');\n",
              "        buttonEl.style.display =\n",
              "          google.colab.kernel.accessAllowed ? 'block' : 'none';\n",
              "\n",
              "        async function convertToInteractive(key) {\n",
              "          const element = document.querySelector('#df-c03e7c22-21aa-4a7f-866b-eb15e15e2567');\n",
              "          const dataTable =\n",
              "            await google.colab.kernel.invokeFunction('convertToInteractive',\n",
              "                                                     [key], {});\n",
              "          if (!dataTable) return;\n",
              "\n",
              "          const docLinkHtml = 'Like what you see? Visit the ' +\n",
              "            '<a target=\"_blank\" href=https://colab.research.google.com/notebooks/data_table.ipynb>data table notebook</a>'\n",
              "            + ' to learn more about interactive tables.';\n",
              "          element.innerHTML = '';\n",
              "          dataTable['output_type'] = 'display_data';\n",
              "          await google.colab.output.renderOutput(dataTable, element);\n",
              "          const docLink = document.createElement('div');\n",
              "          docLink.innerHTML = docLinkHtml;\n",
              "          element.appendChild(docLink);\n",
              "        }\n",
              "      </script>\n",
              "    </div>\n",
              "  </div>\n",
              "  "
            ]
          },
          "metadata": {},
          "execution_count": 7
        }
      ]
    },
    {
      "cell_type": "code",
      "source": [
        "# Check if there is a case where price is equal to 0\n",
        "(Dataset[\"price\"] == 0).sum()\n",
        "\n",
        "# The house price shouldn't be 0, so this is also marked as Outlier\n",
        "Dataset[\"Outlier\"] = Dataset.apply(lambda row: True if row[\"price\"] == 0 else row[\"Outlier\"], axis=1)\n",
        "print(Dataset[\"Outlier\"].value_counts())"
      ],
      "metadata": {
        "colab": {
          "base_uri": "https://localhost:8080/"
        },
        "id": "KHXZlYS0T9wh",
        "outputId": "b9a2982c-7ef6-4eae-b5a1-67cc55bf07c6"
      },
      "execution_count": null,
      "outputs": [
        {
          "output_type": "stream",
          "name": "stdout",
          "text": [
            "False    4548\n",
            "True       52\n",
            "Name: Outlier, dtype: int64\n"
          ]
        }
      ]
    },
    {
      "cell_type": "code",
      "source": [
        "# Drop the data belonging to Outlier\n",
        "Undropped_Data = (Dataset[\"Outlier\"] == False)\n",
        "Dataset = Dataset[Undropped_Data]\n",
        "Dataset.head()"
      ],
      "metadata": {
        "colab": {
          "base_uri": "https://localhost:8080/",
          "height": 426
        },
        "id": "hktSQXNaURAK",
        "outputId": "d0923d55-0fa0-467f-9f95-3beb6ec32a5a"
      },
      "execution_count": null,
      "outputs": [
        {
          "output_type": "execute_result",
          "data": {
            "text/plain": [
              "     date      price  bedrooms  bathrooms  sqft_living  sqft_lot  floors  \\\n",
              "0  Time_A   313000.0       3.0       1.50         1340      7912     1.5   \n",
              "1  Time_A  2384000.0       5.0       2.50         3650      9050     2.0   \n",
              "2  Time_A   342000.0       3.0       2.00         1930     11947     1.0   \n",
              "3  Time_A   420000.0       3.0       2.25         2000      8030     1.0   \n",
              "4  Time_A   550000.0       4.0       2.50         1940     10500     1.0   \n",
              "\n",
              "   waterfront  view  condition  sqft_above  sqft_basement  yr_built  \\\n",
              "0           0     0          3        1340              0      1955   \n",
              "1           0     4          5        3370            280      1921   \n",
              "2           0     0          4        1930              0      1966   \n",
              "3           0     0          4        1000           1000      1963   \n",
              "4           0     0          4        1140            800      1976   \n",
              "\n",
              "   yr_renovated                    street       city  statezip country  \\\n",
              "0          2005      18810 Densmore Ave N  Shoreline  WA 98133     USA   \n",
              "1             0           709 W Blaine St    Seattle  WA 98119     USA   \n",
              "2             0  26206-26214 143rd Ave SE       Kent  WA 98042     USA   \n",
              "3             0           857 170th Pl NE   Bellevue  WA 98008     USA   \n",
              "4          1992         9105 170th Ave NE    Redmond  WA 98052     USA   \n",
              "\n",
              "   Outlier  \n",
              "0    False  \n",
              "1    False  \n",
              "2    False  \n",
              "3    False  \n",
              "4    False  "
            ],
            "text/html": [
              "\n",
              "  <div id=\"df-b207c06a-de38-4941-b46e-601850a71b75\">\n",
              "    <div class=\"colab-df-container\">\n",
              "      <div>\n",
              "<style scoped>\n",
              "    .dataframe tbody tr th:only-of-type {\n",
              "        vertical-align: middle;\n",
              "    }\n",
              "\n",
              "    .dataframe tbody tr th {\n",
              "        vertical-align: top;\n",
              "    }\n",
              "\n",
              "    .dataframe thead th {\n",
              "        text-align: right;\n",
              "    }\n",
              "</style>\n",
              "<table border=\"1\" class=\"dataframe\">\n",
              "  <thead>\n",
              "    <tr style=\"text-align: right;\">\n",
              "      <th></th>\n",
              "      <th>date</th>\n",
              "      <th>price</th>\n",
              "      <th>bedrooms</th>\n",
              "      <th>bathrooms</th>\n",
              "      <th>sqft_living</th>\n",
              "      <th>sqft_lot</th>\n",
              "      <th>floors</th>\n",
              "      <th>waterfront</th>\n",
              "      <th>view</th>\n",
              "      <th>condition</th>\n",
              "      <th>sqft_above</th>\n",
              "      <th>sqft_basement</th>\n",
              "      <th>yr_built</th>\n",
              "      <th>yr_renovated</th>\n",
              "      <th>street</th>\n",
              "      <th>city</th>\n",
              "      <th>statezip</th>\n",
              "      <th>country</th>\n",
              "      <th>Outlier</th>\n",
              "    </tr>\n",
              "  </thead>\n",
              "  <tbody>\n",
              "    <tr>\n",
              "      <th>0</th>\n",
              "      <td>Time_A</td>\n",
              "      <td>313000.0</td>\n",
              "      <td>3.0</td>\n",
              "      <td>1.50</td>\n",
              "      <td>1340</td>\n",
              "      <td>7912</td>\n",
              "      <td>1.5</td>\n",
              "      <td>0</td>\n",
              "      <td>0</td>\n",
              "      <td>3</td>\n",
              "      <td>1340</td>\n",
              "      <td>0</td>\n",
              "      <td>1955</td>\n",
              "      <td>2005</td>\n",
              "      <td>18810 Densmore Ave N</td>\n",
              "      <td>Shoreline</td>\n",
              "      <td>WA 98133</td>\n",
              "      <td>USA</td>\n",
              "      <td>False</td>\n",
              "    </tr>\n",
              "    <tr>\n",
              "      <th>1</th>\n",
              "      <td>Time_A</td>\n",
              "      <td>2384000.0</td>\n",
              "      <td>5.0</td>\n",
              "      <td>2.50</td>\n",
              "      <td>3650</td>\n",
              "      <td>9050</td>\n",
              "      <td>2.0</td>\n",
              "      <td>0</td>\n",
              "      <td>4</td>\n",
              "      <td>5</td>\n",
              "      <td>3370</td>\n",
              "      <td>280</td>\n",
              "      <td>1921</td>\n",
              "      <td>0</td>\n",
              "      <td>709 W Blaine St</td>\n",
              "      <td>Seattle</td>\n",
              "      <td>WA 98119</td>\n",
              "      <td>USA</td>\n",
              "      <td>False</td>\n",
              "    </tr>\n",
              "    <tr>\n",
              "      <th>2</th>\n",
              "      <td>Time_A</td>\n",
              "      <td>342000.0</td>\n",
              "      <td>3.0</td>\n",
              "      <td>2.00</td>\n",
              "      <td>1930</td>\n",
              "      <td>11947</td>\n",
              "      <td>1.0</td>\n",
              "      <td>0</td>\n",
              "      <td>0</td>\n",
              "      <td>4</td>\n",
              "      <td>1930</td>\n",
              "      <td>0</td>\n",
              "      <td>1966</td>\n",
              "      <td>0</td>\n",
              "      <td>26206-26214 143rd Ave SE</td>\n",
              "      <td>Kent</td>\n",
              "      <td>WA 98042</td>\n",
              "      <td>USA</td>\n",
              "      <td>False</td>\n",
              "    </tr>\n",
              "    <tr>\n",
              "      <th>3</th>\n",
              "      <td>Time_A</td>\n",
              "      <td>420000.0</td>\n",
              "      <td>3.0</td>\n",
              "      <td>2.25</td>\n",
              "      <td>2000</td>\n",
              "      <td>8030</td>\n",
              "      <td>1.0</td>\n",
              "      <td>0</td>\n",
              "      <td>0</td>\n",
              "      <td>4</td>\n",
              "      <td>1000</td>\n",
              "      <td>1000</td>\n",
              "      <td>1963</td>\n",
              "      <td>0</td>\n",
              "      <td>857 170th Pl NE</td>\n",
              "      <td>Bellevue</td>\n",
              "      <td>WA 98008</td>\n",
              "      <td>USA</td>\n",
              "      <td>False</td>\n",
              "    </tr>\n",
              "    <tr>\n",
              "      <th>4</th>\n",
              "      <td>Time_A</td>\n",
              "      <td>550000.0</td>\n",
              "      <td>4.0</td>\n",
              "      <td>2.50</td>\n",
              "      <td>1940</td>\n",
              "      <td>10500</td>\n",
              "      <td>1.0</td>\n",
              "      <td>0</td>\n",
              "      <td>0</td>\n",
              "      <td>4</td>\n",
              "      <td>1140</td>\n",
              "      <td>800</td>\n",
              "      <td>1976</td>\n",
              "      <td>1992</td>\n",
              "      <td>9105 170th Ave NE</td>\n",
              "      <td>Redmond</td>\n",
              "      <td>WA 98052</td>\n",
              "      <td>USA</td>\n",
              "      <td>False</td>\n",
              "    </tr>\n",
              "  </tbody>\n",
              "</table>\n",
              "</div>\n",
              "      <button class=\"colab-df-convert\" onclick=\"convertToInteractive('df-b207c06a-de38-4941-b46e-601850a71b75')\"\n",
              "              title=\"Convert this dataframe to an interactive table.\"\n",
              "              style=\"display:none;\">\n",
              "        \n",
              "  <svg xmlns=\"http://www.w3.org/2000/svg\" height=\"24px\"viewBox=\"0 0 24 24\"\n",
              "       width=\"24px\">\n",
              "    <path d=\"M0 0h24v24H0V0z\" fill=\"none\"/>\n",
              "    <path d=\"M18.56 5.44l.94 2.06.94-2.06 2.06-.94-2.06-.94-.94-2.06-.94 2.06-2.06.94zm-11 1L8.5 8.5l.94-2.06 2.06-.94-2.06-.94L8.5 2.5l-.94 2.06-2.06.94zm10 10l.94 2.06.94-2.06 2.06-.94-2.06-.94-.94-2.06-.94 2.06-2.06.94z\"/><path d=\"M17.41 7.96l-1.37-1.37c-.4-.4-.92-.59-1.43-.59-.52 0-1.04.2-1.43.59L10.3 9.45l-7.72 7.72c-.78.78-.78 2.05 0 2.83L4 21.41c.39.39.9.59 1.41.59.51 0 1.02-.2 1.41-.59l7.78-7.78 2.81-2.81c.8-.78.8-2.07 0-2.86zM5.41 20L4 18.59l7.72-7.72 1.47 1.35L5.41 20z\"/>\n",
              "  </svg>\n",
              "      </button>\n",
              "      \n",
              "  <style>\n",
              "    .colab-df-container {\n",
              "      display:flex;\n",
              "      flex-wrap:wrap;\n",
              "      gap: 12px;\n",
              "    }\n",
              "\n",
              "    .colab-df-convert {\n",
              "      background-color: #E8F0FE;\n",
              "      border: none;\n",
              "      border-radius: 50%;\n",
              "      cursor: pointer;\n",
              "      display: none;\n",
              "      fill: #1967D2;\n",
              "      height: 32px;\n",
              "      padding: 0 0 0 0;\n",
              "      width: 32px;\n",
              "    }\n",
              "\n",
              "    .colab-df-convert:hover {\n",
              "      background-color: #E2EBFA;\n",
              "      box-shadow: 0px 1px 2px rgba(60, 64, 67, 0.3), 0px 1px 3px 1px rgba(60, 64, 67, 0.15);\n",
              "      fill: #174EA6;\n",
              "    }\n",
              "\n",
              "    [theme=dark] .colab-df-convert {\n",
              "      background-color: #3B4455;\n",
              "      fill: #D2E3FC;\n",
              "    }\n",
              "\n",
              "    [theme=dark] .colab-df-convert:hover {\n",
              "      background-color: #434B5C;\n",
              "      box-shadow: 0px 1px 3px 1px rgba(0, 0, 0, 0.15);\n",
              "      filter: drop-shadow(0px 1px 2px rgba(0, 0, 0, 0.3));\n",
              "      fill: #FFFFFF;\n",
              "    }\n",
              "  </style>\n",
              "\n",
              "      <script>\n",
              "        const buttonEl =\n",
              "          document.querySelector('#df-b207c06a-de38-4941-b46e-601850a71b75 button.colab-df-convert');\n",
              "        buttonEl.style.display =\n",
              "          google.colab.kernel.accessAllowed ? 'block' : 'none';\n",
              "\n",
              "        async function convertToInteractive(key) {\n",
              "          const element = document.querySelector('#df-b207c06a-de38-4941-b46e-601850a71b75');\n",
              "          const dataTable =\n",
              "            await google.colab.kernel.invokeFunction('convertToInteractive',\n",
              "                                                     [key], {});\n",
              "          if (!dataTable) return;\n",
              "\n",
              "          const docLinkHtml = 'Like what you see? Visit the ' +\n",
              "            '<a target=\"_blank\" href=https://colab.research.google.com/notebooks/data_table.ipynb>data table notebook</a>'\n",
              "            + ' to learn more about interactive tables.';\n",
              "          element.innerHTML = '';\n",
              "          dataTable['output_type'] = 'display_data';\n",
              "          await google.colab.output.renderOutput(dataTable, element);\n",
              "          const docLink = document.createElement('div');\n",
              "          docLink.innerHTML = docLinkHtml;\n",
              "          element.appendChild(docLink);\n",
              "        }\n",
              "      </script>\n",
              "    </div>\n",
              "  </div>\n",
              "  "
            ]
          },
          "metadata": {},
          "execution_count": 9
        }
      ]
    },
    {
      "cell_type": "markdown",
      "source": [
        "3rd field (bedrooms)"
      ],
      "metadata": {
        "id": "KNo0GbIPTs_A"
      }
    },
    {
      "cell_type": "code",
      "source": [
        "import matplotlib.pyplot as plt\n",
        "\n",
        "plt.plot(Dataset[\"bedrooms\"], \"o\")\n",
        "plt.title(\"bedrooms\", fontsize=20)\n",
        "plt.xlabel(\"instance\", fontsize=18)\n",
        "plt.ylabel(\"number of bedrooms\", fontsize=18)\n",
        "plt.xticks(fontsize=16)\n",
        "plt.yticks(fontsize=16)\n",
        "plt.show()"
      ],
      "metadata": {
        "colab": {
          "base_uri": "https://localhost:8080/",
          "height": 313
        },
        "id": "QGMkDbWhUal-",
        "outputId": "48428a8a-9e11-4f9a-9557-f706a6e0565b"
      },
      "execution_count": null,
      "outputs": [
        {
          "output_type": "display_data",
          "data": {
            "text/plain": [
              "<Figure size 432x288 with 1 Axes>"
            ],
            "image/png": "[encoded data removed]"
          },
          "metadata": {
            "needs_background": "light"
          }
        }
      ]
    },
    {
      "cell_type": "markdown",
      "source": [
        "4th field (bathrooms)"
      ],
      "metadata": {
        "id": "vzfksWOrUhJP"
      }
    },
    {
      "cell_type": "code",
      "source": [
        "import matplotlib.pyplot as plt\n",
        "\n",
        "plt.plot(Dataset[\"bathrooms\"], \"o\")\n",
        "plt.title(\"bathrooms\", fontsize=20)\n",
        "plt.xlabel(\"instance\", fontsize=18)\n",
        "plt.ylabel(\"number of bathrooms\", fontsize=18)\n",
        "plt.xticks(fontsize=16)\n",
        "plt.yticks(fontsize=16)\n",
        "plt.show()"
      ],
      "metadata": {
        "colab": {
          "base_uri": "https://localhost:8080/",
          "height": 313
        },
        "id": "ZnJWwokcUfsc",
        "outputId": "cdc4e891-3f6c-4458-d279-f79d77dd7639"
      },
      "execution_count": null,
      "outputs": [
        {
          "output_type": "display_data",
          "data": {
            "text/plain": [
              "<Figure size 432x288 with 1 Axes>"
            ],
            "image/png": "[encoded data removed]"
          },
          "metadata": {
            "needs_background": "light"
          }
        }
      ]
    },
    {
      "cell_type": "markdown",
      "source": [
        "5th field (sqft_living)"
      ],
      "metadata": {
        "id": "lyLEzIfcUpLb"
      }
    },
    {
      "cell_type": "code",
      "source": [
        "import matplotlib.pyplot as plt\n",
        "\n",
        "plt.hist(Dataset[\"sqft_living\"])\n",
        "plt.title(\"sqft_living\", fontsize=20)\n",
        "plt.xlabel(\"size\", fontsize=18)\n",
        "plt.ylabel(\"frequency\", fontsize=18)\n",
        "plt.xticks(fontsize=16)\n",
        "plt.yticks(fontsize=16)\n",
        "plt.show()"
      ],
      "metadata": {
        "colab": {
          "base_uri": "https://localhost:8080/",
          "height": 313
        },
        "id": "clni5k00WluI",
        "outputId": "98086e3d-dbc2-4194-e90f-c5e985085bc6"
      },
      "execution_count": null,
      "outputs": [
        {
          "output_type": "display_data",
          "data": {
            "text/plain": [
              "<Figure size 432x288 with 1 Axes>"
            ],
            "image/png": "[encoded data removed]"
          },
          "metadata": {
            "needs_background": "light"
          }
        }
      ]
    },
    {
      "cell_type": "markdown",
      "source": [
        "6th field (sqft_lot)"
      ],
      "metadata": {
        "id": "0Xfm0VI-Uvjo"
      }
    },
    {
      "cell_type": "code",
      "source": [
        "import matplotlib.pyplot as plt\n",
        "\n",
        "plt.plot(Dataset[\"sqft_lot\"], \"o\")\n",
        "#plt.hist(Dataset[\"sqft_lot\"],)\n",
        "plt.title(\"sqft_lot\", fontsize=20)\n",
        "plt.xlabel(\"instance\", fontsize=18)\n",
        "plt.ylabel(\"sqft_lot\", fontsize=18)\n",
        "plt.xticks(fontsize=16)\n",
        "plt.yticks(fontsize=16)\n",
        "plt.show()"
      ],
      "metadata": {
        "colab": {
          "base_uri": "https://localhost:8080/",
          "height": 313
        },
        "id": "nS5FfgIMWoHn",
        "outputId": "195bd472-0731-470d-bdf0-0d6226fdb147"
      },
      "execution_count": null,
      "outputs": [
        {
          "output_type": "display_data",
          "data": {
            "text/plain": [
              "<Figure size 432x288 with 1 Axes>"
            ],
            "image/png": "[encoded data removed]"
          },
          "metadata": {
            "needs_background": "light"
          }
        }
      ]
    },
    {
      "cell_type": "markdown",
      "source": [
        "7th field (floors)"
      ],
      "metadata": {
        "id": "2Y6t5uoGUve2"
      }
    },
    {
      "cell_type": "code",
      "source": [
        "import matplotlib.pyplot as plt\n",
        "\n",
        "plt.plot(Dataset[\"floors\"], \"o\")\n",
        "plt.title(\"floors\", fontsize=20)\n",
        "plt.xlabel(\"instance\", fontsize=18)\n",
        "plt.ylabel(\"number of floors\", fontsize=18)\n",
        "plt.xticks(fontsize=16)\n",
        "plt.yticks(fontsize=16)\n",
        "plt.show()"
      ],
      "metadata": {
        "colab": {
          "base_uri": "https://localhost:8080/",
          "height": 313
        },
        "id": "rPtG02L4Wp4s",
        "outputId": "4eb3a44f-157d-4bf1-b41f-7adfa7457ba4"
      },
      "execution_count": null,
      "outputs": [
        {
          "output_type": "display_data",
          "data": {
            "text/plain": [
              "<Figure size 432x288 with 1 Axes>"
            ],
            "image/png": "[encoded data removed]"
          },
          "metadata": {
            "needs_background": "light"
          }
        }
      ]
    },
    {
      "cell_type": "markdown",
      "source": [
        "8th field (waterfront)"
      ],
      "metadata": {
        "id": "AdMLYdtmUva8"
      }
    },
    {
      "cell_type": "code",
      "source": [
        "Dataset[\"waterfront\"].value_counts()"
      ],
      "metadata": {
        "colab": {
          "base_uri": "https://localhost:8080/"
        },
        "id": "dIW6r_qVWrw6",
        "outputId": "93340b28-600f-4a08-b4de-419dc27937f0"
      },
      "execution_count": null,
      "outputs": [
        {
          "output_type": "execute_result",
          "data": {
            "text/plain": [
              "0    4519\n",
              "1      29\n",
              "Name: waterfront, dtype: int64"
            ]
          },
          "metadata": {},
          "execution_count": 15
        }
      ]
    },
    {
      "cell_type": "markdown",
      "source": [
        "9th field (view)"
      ],
      "metadata": {
        "id": "9EE-rrSFUvWy"
      }
    },
    {
      "cell_type": "code",
      "source": [
        "import matplotlib.pyplot as plt\n",
        "\n",
        "plt.plot(Dataset[\"view\"], \"o\")\n",
        "plt.title(\"view\", fontsize=20)\n",
        "plt.xlabel(\"instance\", fontsize=18)\n",
        "plt.ylabel(\"number of views\", fontsize=18)\n",
        "plt.xticks(fontsize=16)\n",
        "plt.yticks(fontsize=16)\n",
        "plt.show()"
      ],
      "metadata": {
        "colab": {
          "base_uri": "https://localhost:8080/",
          "height": 313
        },
        "id": "BfTLRLkHWus6",
        "outputId": "a2e6c30d-dfa3-4ba4-c08d-102fdfc6e6e5"
      },
      "execution_count": null,
      "outputs": [
        {
          "output_type": "display_data",
          "data": {
            "text/plain": [
              "<Figure size 432x288 with 1 Axes>"
            ],
            "image/png": "[encoded data removed]"
          },
          "metadata": {
            "needs_background": "light"
          }
        }
      ]
    },
    {
      "cell_type": "markdown",
      "source": [
        "10th field (condition)"
      ],
      "metadata": {
        "id": "RU31CyUQUvTV"
      }
    },
    {
      "cell_type": "code",
      "source": [
        "import matplotlib.pyplot as plt\n",
        "\n",
        "plt.plot(Dataset[\"condition\"], \"o\")\n",
        "plt.title(\"condition\", fontsize=20)\n",
        "plt.xlabel(\"instance\", fontsize=18)\n",
        "plt.ylabel(\"condition\", fontsize=18)\n",
        "plt.xticks(fontsize=16)\n",
        "plt.yticks(fontsize=16)\n",
        "plt.show()"
      ],
      "metadata": {
        "colab": {
          "base_uri": "https://localhost:8080/",
          "height": 313
        },
        "id": "1YKPU59hWw-W",
        "outputId": "d59dccf7-dc67-4a42-e71c-b10eef0c2851"
      },
      "execution_count": null,
      "outputs": [
        {
          "output_type": "display_data",
          "data": {
            "text/plain": [
              "<Figure size 432x288 with 1 Axes>"
            ],
            "image/png": "[encoded data removed]"
          },
          "metadata": {
            "needs_background": "light"
          }
        }
      ]
    },
    {
      "cell_type": "markdown",
      "source": [
        "11th field (sqft_above)"
      ],
      "metadata": {
        "id": "kLhwYV0EVgPJ"
      }
    },
    {
      "cell_type": "code",
      "source": [
        "import matplotlib.pyplot as plt\n",
        "\n",
        "#plt.plot(Dataset[\"sqft_above\"], \"o\")\n",
        "plt.hist(Dataset[\"sqft_above\"])\n",
        "plt.title(\"sqft_above\", fontsize=20)\n",
        "plt.xlabel(\"size\", fontsize=18)\n",
        "plt.ylabel(\"frequency\", fontsize=18)\n",
        "plt.xticks(fontsize=16)\n",
        "plt.yticks(fontsize=16)\n",
        "plt.show()"
      ],
      "metadata": {
        "colab": {
          "base_uri": "https://localhost:8080/",
          "height": 313
        },
        "id": "OjLXNRVSWzFx",
        "outputId": "a4fc07cd-f4c6-4baf-c935-59d3e2038188"
      },
      "execution_count": null,
      "outputs": [
        {
          "output_type": "display_data",
          "data": {
            "text/plain": [
              "<Figure size 432x288 with 1 Axes>"
            ],
            "image/png": "[encoded data removed]"
          },
          "metadata": {
            "needs_background": "light"
          }
        }
      ]
    },
    {
      "cell_type": "markdown",
      "source": [
        "12th field (sqft_basement)"
      ],
      "metadata": {
        "id": "REQVaVSfUvH8"
      }
    },
    {
      "cell_type": "code",
      "source": [
        "import matplotlib.pyplot as plt\n",
        "\n",
        "plt.hist(Dataset[\"sqft_basement\"])\n",
        "plt.title(\"sqft_basement\", fontsize=20)\n",
        "plt.xlabel(\"size\", fontsize=18)\n",
        "plt.ylabel(\"frequency\", fontsize=18)\n",
        "plt.xticks(fontsize=16)\n",
        "plt.yticks(fontsize=16)\n",
        "plt.show()"
      ],
      "metadata": {
        "colab": {
          "base_uri": "https://localhost:8080/",
          "height": 313
        },
        "id": "kSEmLopEW1EQ",
        "outputId": "bc230f46-2890-4a10-87d7-d8e1ff3fdad9"
      },
      "execution_count": null,
      "outputs": [
        {
          "output_type": "display_data",
          "data": {
            "text/plain": [
              "<Figure size 432x288 with 1 Axes>"
            ],
            "image/png": "[encoded data removed]"
          },
          "metadata": {
            "needs_background": "light"
          }
        }
      ]
    },
    {
      "cell_type": "markdown",
      "source": [
        "13th field (yr_built)"
      ],
      "metadata": {
        "id": "mld8vXXlUvEQ"
      }
    },
    {
      "cell_type": "code",
      "source": [
        "import matplotlib.pyplot as plt\n",
        "\n",
        "plt.hist(Dataset[\"yr_built\"])\n",
        "plt.title(\"yr_built\", fontsize=20)\n",
        "plt.xlabel(\"year\", fontsize=18)\n",
        "plt.ylabel(\"frequency\", fontsize=18)\n",
        "plt.xticks(fontsize=16)\n",
        "plt.yticks(fontsize=16)\n",
        "plt.show()"
      ],
      "metadata": {
        "colab": {
          "base_uri": "https://localhost:8080/",
          "height": 313
        },
        "id": "rg6pFq1mW3IQ",
        "outputId": "0c0197da-648b-4730-bb6c-fc2c2b14a7e2"
      },
      "execution_count": null,
      "outputs": [
        {
          "output_type": "display_data",
          "data": {
            "text/plain": [
              "<Figure size 432x288 with 1 Axes>"
            ],
            "image/png": "[encoded data removed]"
          },
          "metadata": {
            "needs_background": "light"
          }
        }
      ]
    },
    {
      "cell_type": "markdown",
      "source": [
        "14th field (yr_renovated)"
      ],
      "metadata": {
        "id": "iUPcVKjuUuxW"
      }
    },
    {
      "cell_type": "code",
      "source": [
        "import matplotlib.pyplot as plt\n",
        "\n",
        "plt.hist(Dataset[\"yr_renovated\"])\n",
        "plt.title(\"yr_renovated\", fontsize=20)\n",
        "plt.xlabel(\"year\", fontsize=18)\n",
        "plt.ylabel(\"frequency\", fontsize=18)\n",
        "plt.xticks(fontsize=16)\n",
        "plt.yticks(fontsize=16)\n",
        "plt.show()\n",
        "\n",
        "# Clarify why there is data near 0 on the left.\n",
        "print(Dataset[\"yr_renovated\"].value_counts())"
      ],
      "metadata": {
        "colab": {
          "base_uri": "https://localhost:8080/",
          "height": 1000
        },
        "id": "t2ceKhWmW4sm",
        "outputId": "975ca40a-88d5-416e-b558-abb4e81f4e3d"
      },
      "execution_count": null,
      "outputs": [
        {
          "output_type": "display_data",
          "data": {
            "text/plain": [
              "<Figure size 432x288 with 1 Axes>"
            ],
            "image/png": "[encoded data removed]"
          },
          "metadata": {
            "needs_background": "light"
          }
        },
        {
          "output_type": "stream",
          "name": "stdout",
          "text": [
            "0       2705\n",
            "2000     169\n",
            "2003     150\n",
            "2009     107\n",
            "2001     104\n",
            "2005      94\n",
            "2004      77\n",
            "2014      72\n",
            "2006      66\n",
            "2013      61\n",
            "1994      57\n",
            "1923      55\n",
            "1989      55\n",
            "2011      54\n",
            "2008      45\n",
            "2012      45\n",
            "1988      43\n",
            "1983      40\n",
            "2002      40\n",
            "1998      39\n",
            "1993      39\n",
            "1999      39\n",
            "1912      33\n",
            "1979      32\n",
            "1992      32\n",
            "2010      30\n",
            "1985      29\n",
            "1997      28\n",
            "1982      22\n",
            "1996      21\n",
            "1972      17\n",
            "1990      16\n",
            "1956      15\n",
            "1963      12\n",
            "1969      11\n",
            "1984       9\n",
            "1968       9\n",
            "1970       9\n",
            "1954       8\n",
            "1945       7\n",
            "2007       7\n",
            "1974       6\n",
            "1934       6\n",
            "1986       5\n",
            "1958       5\n",
            "1971       5\n",
            "1978       3\n",
            "1995       2\n",
            "1955       2\n",
            "1980       2\n",
            "1913       1\n",
            "1991       1\n",
            "1948       1\n",
            "1953       1\n",
            "1960       1\n",
            "1987       1\n",
            "1966       1\n",
            "1981       1\n",
            "1977       1\n",
            "Name: yr_renovated, dtype: int64\n"
          ]
        }
      ]
    },
    {
      "cell_type": "code",
      "source": [
        "# Found some yr_renovated to be 0, meaning none of them have been refurbished, however they should be \"yr_built\".\n",
        "Dataset[\"yr_renovated\"] = Dataset.apply(lambda row: row[\"yr_built\"] if row[\"yr_renovated\"] == 0 else row[\"yr_renovated\"], axis=1)\n",
        "\n",
        "import matplotlib.pyplot as plt\n",
        "\n",
        "plt.hist(Dataset[\"yr_renovated\"])\n",
        "plt.title(\"yr_renovated\", fontsize=20)\n",
        "plt.xlabel(\"year\", fontsize=18)\n",
        "plt.ylabel(\"frequency\", fontsize=18)\n",
        "plt.xticks(fontsize=16)\n",
        "plt.yticks(fontsize=16)\n",
        "plt.show()"
      ],
      "metadata": {
        "colab": {
          "base_uri": "https://localhost:8080/",
          "height": 313
        },
        "id": "QWAbgLjnW9FQ",
        "outputId": "4219c705-2c21-43b9-b6ba-f84627efa5b8"
      },
      "execution_count": null,
      "outputs": [
        {
          "output_type": "display_data",
          "data": {
            "text/plain": [
              "<Figure size 432x288 with 1 Axes>"
            ],
            "image/png": "[encoded data removed]"
          },
          "metadata": {
            "needs_background": "light"
          }
        }
      ]
    },
    {
      "cell_type": "markdown",
      "source": [
        "15th field (street)"
      ],
      "metadata": {
        "id": "0c2vtkvFU82W"
      }
    },
    {
      "cell_type": "code",
      "source": [
        "#The number of streets is very large, so chose to drop it out.\n",
        "print(len(Dataset.street.unique()))\n",
        "Dataset = Dataset.drop([\"street\"], axis=1)"
      ],
      "metadata": {
        "colab": {
          "base_uri": "https://localhost:8080/"
        },
        "id": "1tEQIkSWW7M6",
        "outputId": "1433e0c8-f281-4dfb-ddeb-f38566c8dcde"
      },
      "execution_count": null,
      "outputs": [
        {
          "output_type": "stream",
          "name": "stdout",
          "text": [
            "4473\n"
          ]
        }
      ]
    },
    {
      "cell_type": "markdown",
      "source": [
        "16th field (city)"
      ],
      "metadata": {
        "id": "04XIJ9POU8wq"
      }
    },
    {
      "cell_type": "code",
      "source": [
        "Dataset[\"city\"].value_counts()"
      ],
      "metadata": {
        "colab": {
          "base_uri": "https://localhost:8080/"
        },
        "id": "zkYVrRwwX6AN",
        "outputId": "1985f6c6-9f5e-4bfd-909e-178b83d4fd7c"
      },
      "execution_count": null,
      "outputs": [
        {
          "output_type": "execute_result",
          "data": {
            "text/plain": [
              "Seattle                1560\n",
              "Renton                  291\n",
              "Bellevue                280\n",
              "Redmond                 235\n",
              "Kirkland                187\n",
              "Issaquah                186\n",
              "Kent                    183\n",
              "Auburn                  175\n",
              "Sammamish               171\n",
              "Federal Way             145\n",
              "Shoreline               123\n",
              "Woodinville             114\n",
              "Maple Valley             95\n",
              "Mercer Island            82\n",
              "Burien                   72\n",
              "Snoqualmie               69\n",
              "Kenmore                  65\n",
              "Des Moines               58\n",
              "North Bend               50\n",
              "Duvall                   42\n",
              "Covington                42\n",
              "Lake Forest Park         34\n",
              "Bothell                  33\n",
              "Newcastle                33\n",
              "Tukwila                  29\n",
              "Vashon                   29\n",
              "SeaTac                   28\n",
              "Enumclaw                 27\n",
              "Carnation                22\n",
              "Normandy Park            17\n",
              "Fall City                11\n",
              "Medina                   11\n",
              "Clyde Hill                9\n",
              "Black Diamond             8\n",
              "Ravensdale                7\n",
              "Pacific                   6\n",
              "Algona                    5\n",
              "Yarrow Point              4\n",
              "Skykomish                 3\n",
              "Preston                   2\n",
              "Milton                    2\n",
              "Inglewood-Finn Hill       1\n",
              "Snoqualmie Pass           1\n",
              "Beaux Arts Village        1\n",
              "Name: city, dtype: int64"
            ]
          },
          "metadata": {},
          "execution_count": 24
        }
      ]
    },
    {
      "cell_type": "markdown",
      "source": [
        "17th field (statezip)"
      ],
      "metadata": {
        "id": "ezWXoNDRU8uJ"
      }
    },
    {
      "cell_type": "code",
      "source": [
        "Dataset[\"statezip\"].value_counts()"
      ],
      "metadata": {
        "colab": {
          "base_uri": "https://localhost:8080/"
        },
        "id": "X6pDGiutX7we",
        "outputId": "8f60d13a-69d6-4ed4-8307-3cb07e442878"
      },
      "execution_count": null,
      "outputs": [
        {
          "output_type": "execute_result",
          "data": {
            "text/plain": [
              "WA 98103    148\n",
              "WA 98052    135\n",
              "WA 98117    132\n",
              "WA 98115    129\n",
              "WA 98006    109\n",
              "           ... \n",
              "WA 98047      6\n",
              "WA 98288      3\n",
              "WA 98050      2\n",
              "WA 98354      2\n",
              "WA 98068      1\n",
              "Name: statezip, Length: 77, dtype: int64"
            ]
          },
          "metadata": {},
          "execution_count": 25
        }
      ]
    },
    {
      "cell_type": "markdown",
      "source": [
        "18th field (country)"
      ],
      "metadata": {
        "id": "JxVqduHXU8nj"
      }
    },
    {
      "cell_type": "code",
      "source": [
        "Dataset[\"country\"].value_counts()\n",
        "\n",
        "# Everyone is USA, so drop it\n",
        "# Drop the Outlier field here.\n",
        "Dataset = Dataset.drop([\"country\", \"Outlier\"], axis=1)"
      ],
      "metadata": {
        "id": "yDxH2cisVCZh"
      },
      "execution_count": null,
      "outputs": []
    },
    {
      "cell_type": "markdown",
      "source": [
        "# Step 3: Identify Numerical and Categorical Features"
      ],
      "metadata": {
        "id": "TnZD9iB_Yees"
      }
    },
    {
      "cell_type": "code",
      "source": [
        "numerical_attributes = []\n",
        "categorical_attributes = []\n",
        "\n",
        "for attr in Dataset.columns:\n",
        "  #print(Dataset[attr].dtypes)\n",
        "\n",
        "  attr_type = Dataset[attr].dtypes\n",
        "  if attr_type == \"float64\" or attr_type == \"int64\":\n",
        "    numerical_attributes.append(attr)\n",
        "  elif attr_type == \"object\":\n",
        "    categorical_attributes.append(attr)\n",
        "\n",
        "# We will do feautre scaling for X later, so remove Y first.\n",
        "numerical_attributes.remove(\"price\")\n",
        "\n",
        "print(f\"數值型的 Attributes 有: {numerical_attributes}\")\n",
        "print(f\"類別型的 Attributes 有: {categorical_attributes}\")"
      ],
      "metadata": {
        "colab": {
          "base_uri": "https://localhost:8080/"
        },
        "id": "X66GcYtAYe2t",
        "outputId": "9c30dabb-e9f7-4877-9496-fcbdafc034ee"
      },
      "execution_count": null,
      "outputs": [
        {
          "output_type": "stream",
          "name": "stdout",
          "text": [
            "數值型的 Attributes 有: ['bedrooms', 'bathrooms', 'sqft_living', 'sqft_lot', 'floors', 'waterfront', 'view', 'condition', 'sqft_above', 'sqft_basement', 'yr_built', 'yr_renovated']\n",
            "類別型的 Attributes 有: ['date', 'city', 'statezip']\n"
          ]
        }
      ]
    },
    {
      "cell_type": "markdown",
      "source": [
        "# Step 4 : Perform One-Hot Encoding"
      ],
      "metadata": {
        "id": "8A4iH70tZlLe"
      }
    },
    {
      "cell_type": "code",
      "source": [
        "# Using pandas' get_dummies, can quickly One-Hot Encoding the fields in the Dataset that belong to the category\n",
        "\n",
        "print(f\"One-Hot Encoding 前有 {Dataset.shape[1]} 個欄位\")\n",
        "One_Hot_Dataset = pd.get_dummies(Dataset)\n",
        "print(f\"One-Hot Encoding 後有 {One_Hot_Dataset.shape[1]} 個欄位\")\n",
        "One_Hot_Dataset.head()"
      ],
      "metadata": {
        "colab": {
          "base_uri": "https://localhost:8080/"
        },
        "id": "yYJDYpSxZpj4",
        "outputId": "53962e63-ea16-46ee-bf34-ee0eb8ce1bc7"
      },
      "execution_count": null,
      "outputs": [
        {
          "output_type": "stream",
          "name": "stdout",
          "text": [
            "One-Hot Encoding 前有 16 個欄位\n",
            "One-Hot Encoding 後有 137 個欄位\n"
          ]
        },
        {
          "output_type": "execute_result",
          "data": {
            "text/plain": [
              "       price  bedrooms  bathrooms  sqft_living  sqft_lot  floors  waterfront  \\\n",
              "0   313000.0       3.0       1.50         1340      7912     1.5           0   \n",
              "1  2384000.0       5.0       2.50         3650      9050     2.0           0   \n",
              "2   342000.0       3.0       2.00         1930     11947     1.0           0   \n",
              "3   420000.0       3.0       2.25         2000      8030     1.0           0   \n",
              "4   550000.0       4.0       2.50         1940     10500     1.0           0   \n",
              "\n",
              "   view  condition  sqft_above  ...  statezip_WA 98155  statezip_WA 98166  \\\n",
              "0     0          3        1340  ...                  0                  0   \n",
              "1     4          5        3370  ...                  0                  0   \n",
              "2     0          4        1930  ...                  0                  0   \n",
              "3     0          4        1000  ...                  0                  0   \n",
              "4     0          4        1140  ...                  0                  0   \n",
              "\n",
              "   statezip_WA 98168  statezip_WA 98177  statezip_WA 98178  statezip_WA 98188  \\\n",
              "0                  0                  0                  0                  0   \n",
              "1                  0                  0                  0                  0   \n",
              "2                  0                  0                  0                  0   \n",
              "3                  0                  0                  0                  0   \n",
              "4                  0                  0                  0                  0   \n",
              "\n",
              "   statezip_WA 98198  statezip_WA 98199  statezip_WA 98288  statezip_WA 98354  \n",
              "0                  0                  0                  0                  0  \n",
              "1                  0                  0                  0                  0  \n",
              "2                  0                  0                  0                  0  \n",
              "3                  0                  0                  0                  0  \n",
              "4                  0                  0                  0                  0  \n",
              "\n",
              "[5 rows x 137 columns]"
            ],
            "text/html": [
              "\n",
              "  <div id=\"df-7a023ec9-4615-4b22-acbb-ff005e29c89d\">\n",
              "    <div class=\"colab-df-container\">\n",
              "      <div>\n",
              "<style scoped>\n",
              "    .dataframe tbody tr th:only-of-type {\n",
              "        vertical-align: middle;\n",
              "    }\n",
              "\n",
              "    .dataframe tbody tr th {\n",
              "        vertical-align: top;\n",
              "    }\n",
              "\n",
              "    .dataframe thead th {\n",
              "        text-align: right;\n",
              "    }\n",
              "</style>\n",
              "<table border=\"1\" class=\"dataframe\">\n",
              "  <thead>\n",
              "    <tr style=\"text-align: right;\">\n",
              "      <th></th>\n",
              "      <th>price</th>\n",
              "      <th>bedrooms</th>\n",
              "      <th>bathrooms</th>\n",
              "      <th>sqft_living</th>\n",
              "      <th>sqft_lot</th>\n",
              "      <th>floors</th>\n",
              "      <th>waterfront</th>\n",
              "      <th>view</th>\n",
              "      <th>condition</th>\n",
              "      <th>sqft_above</th>\n",
              "      <th>...</th>\n",
              "      <th>statezip_WA 98155</th>\n",
              "      <th>statezip_WA 98166</th>\n",
              "      <th>statezip_WA 98168</th>\n",
              "      <th>statezip_WA 98177</th>\n",
              "      <th>statezip_WA 98178</th>\n",
              "      <th>statezip_WA 98188</th>\n",
              "      <th>statezip_WA 98198</th>\n",
              "      <th>statezip_WA 98199</th>\n",
              "      <th>statezip_WA 98288</th>\n",
              "      <th>statezip_WA 98354</th>\n",
              "    </tr>\n",
              "  </thead>\n",
              "  <tbody>\n",
              "    <tr>\n",
              "      <th>0</th>\n",
              "      <td>313000.0</td>\n",
              "      <td>3.0</td>\n",
              "      <td>1.50</td>\n",
              "      <td>1340</td>\n",
              "      <td>7912</td>\n",
              "      <td>1.5</td>\n",
              "      <td>0</td>\n",
              "      <td>0</td>\n",
              "      <td>3</td>\n",
              "      <td>1340</td>\n",
              "      <td>...</td>\n",
              "      <td>0</td>\n",
              "      <td>0</td>\n",
              "      <td>0</td>\n",
              "      <td>0</td>\n",
              "      <td>0</td>\n",
              "      <td>0</td>\n",
              "      <td>0</td>\n",
              "      <td>0</td>\n",
              "      <td>0</td>\n",
              "      <td>0</td>\n",
              "    </tr>\n",
              "    <tr>\n",
              "      <th>1</th>\n",
              "      <td>2384000.0</td>\n",
              "      <td>5.0</td>\n",
              "      <td>2.50</td>\n",
              "      <td>3650</td>\n",
              "      <td>9050</td>\n",
              "      <td>2.0</td>\n",
              "      <td>0</td>\n",
              "      <td>4</td>\n",
              "      <td>5</td>\n",
              "      <td>3370</td>\n",
              "      <td>...</td>\n",
              "      <td>0</td>\n",
              "      <td>0</td>\n",
              "      <td>0</td>\n",
              "      <td>0</td>\n",
              "      <td>0</td>\n",
              "      <td>0</td>\n",
              "      <td>0</td>\n",
              "      <td>0</td>\n",
              "      <td>0</td>\n",
              "      <td>0</td>\n",
              "    </tr>\n",
              "    <tr>\n",
              "      <th>2</th>\n",
              "      <td>342000.0</td>\n",
              "      <td>3.0</td>\n",
              "      <td>2.00</td>\n",
              "      <td>1930</td>\n",
              "      <td>11947</td>\n",
              "      <td>1.0</td>\n",
              "      <td>0</td>\n",
              "      <td>0</td>\n",
              "      <td>4</td>\n",
              "      <td>1930</td>\n",
              "      <td>...</td>\n",
              "      <td>0</td>\n",
              "      <td>0</td>\n",
              "      <td>0</td>\n",
              "      <td>0</td>\n",
              "      <td>0</td>\n",
              "      <td>0</td>\n",
              "      <td>0</td>\n",
              "      <td>0</td>\n",
              "      <td>0</td>\n",
              "      <td>0</td>\n",
              "    </tr>\n",
              "    <tr>\n",
              "      <th>3</th>\n",
              "      <td>420000.0</td>\n",
              "      <td>3.0</td>\n",
              "      <td>2.25</td>\n",
              "      <td>2000</td>\n",
              "      <td>8030</td>\n",
              "      <td>1.0</td>\n",
              "      <td>0</td>\n",
              "      <td>0</td>\n",
              "      <td>4</td>\n",
              "      <td>1000</td>\n",
              "      <td>...</td>\n",
              "      <td>0</td>\n",
              "      <td>0</td>\n",
              "      <td>0</td>\n",
              "      <td>0</td>\n",
              "      <td>0</td>\n",
              "      <td>0</td>\n",
              "      <td>0</td>\n",
              "      <td>0</td>\n",
              "      <td>0</td>\n",
              "      <td>0</td>\n",
              "    </tr>\n",
              "    <tr>\n",
              "      <th>4</th>\n",
              "      <td>550000.0</td>\n",
              "      <td>4.0</td>\n",
              "      <td>2.50</td>\n",
              "      <td>1940</td>\n",
              "      <td>10500</td>\n",
              "      <td>1.0</td>\n",
              "      <td>0</td>\n",
              "      <td>0</td>\n",
              "      <td>4</td>\n",
              "      <td>1140</td>\n",
              "      <td>...</td>\n",
              "      <td>0</td>\n",
              "      <td>0</td>\n",
              "      <td>0</td>\n",
              "      <td>0</td>\n",
              "      <td>0</td>\n",
              "      <td>0</td>\n",
              "      <td>0</td>\n",
              "      <td>0</td>\n",
              "      <td>0</td>\n",
              "      <td>0</td>\n",
              "    </tr>\n",
              "  </tbody>\n",
              "</table>\n",
              "<p>5 rows × 137 columns</p>\n",
              "</div>\n",
              "      <button class=\"colab-df-convert\" onclick=\"convertToInteractive('df-7a023ec9-4615-4b22-acbb-ff005e29c89d')\"\n",
              "              title=\"Convert this dataframe to an interactive table.\"\n",
              "              style=\"display:none;\">\n",
              "        \n",
              "  <svg xmlns=\"http://www.w3.org/2000/svg\" height=\"24px\"viewBox=\"0 0 24 24\"\n",
              "       width=\"24px\">\n",
              "    <path d=\"M0 0h24v24H0V0z\" fill=\"none\"/>\n",
              "    <path d=\"M18.56 5.44l.94 2.06.94-2.06 2.06-.94-2.06-.94-.94-2.06-.94 2.06-2.06.94zm-11 1L8.5 8.5l.94-2.06 2.06-.94-2.06-.94L8.5 2.5l-.94 2.06-2.06.94zm10 10l.94 2.06.94-2.06 2.06-.94-2.06-.94-.94-2.06-.94 2.06-2.06.94z\"/><path d=\"M17.41 7.96l-1.37-1.37c-.4-.4-.92-.59-1.43-.59-.52 0-1.04.2-1.43.59L10.3 9.45l-7.72 7.72c-.78.78-.78 2.05 0 2.83L4 21.41c.39.39.9.59 1.41.59.51 0 1.02-.2 1.41-.59l7.78-7.78 2.81-2.81c.8-.78.8-2.07 0-2.86zM5.41 20L4 18.59l7.72-7.72 1.47 1.35L5.41 20z\"/>\n",
              "  </svg>\n",
              "      </button>\n",
              "      \n",
              "  <style>\n",
              "    .colab-df-container {\n",
              "      display:flex;\n",
              "      flex-wrap:wrap;\n",
              "      gap: 12px;\n",
              "    }\n",
              "\n",
              "    .colab-df-convert {\n",
              "      background-color: #E8F0FE;\n",
              "      border: none;\n",
              "      border-radius: 50%;\n",
              "      cursor: pointer;\n",
              "      display: none;\n",
              "      fill: #1967D2;\n",
              "      height: 32px;\n",
              "      padding: 0 0 0 0;\n",
              "      width: 32px;\n",
              "    }\n",
              "\n",
              "    .colab-df-convert:hover {\n",
              "      background-color: #E2EBFA;\n",
              "      box-shadow: 0px 1px 2px rgba(60, 64, 67, 0.3), 0px 1px 3px 1px rgba(60, 64, 67, 0.15);\n",
              "      fill: #174EA6;\n",
              "    }\n",
              "\n",
              "    [theme=dark] .colab-df-convert {\n",
              "      background-color: #3B4455;\n",
              "      fill: #D2E3FC;\n",
              "    }\n",
              "\n",
              "    [theme=dark] .colab-df-convert:hover {\n",
              "      background-color: #434B5C;\n",
              "      box-shadow: 0px 1px 3px 1px rgba(0, 0, 0, 0.15);\n",
              "      filter: drop-shadow(0px 1px 2px rgba(0, 0, 0, 0.3));\n",
              "      fill: #FFFFFF;\n",
              "    }\n",
              "  </style>\n",
              "\n",
              "      <script>\n",
              "        const buttonEl =\n",
              "          document.querySelector('#df-7a023ec9-4615-4b22-acbb-ff005e29c89d button.colab-df-convert');\n",
              "        buttonEl.style.display =\n",
              "          google.colab.kernel.accessAllowed ? 'block' : 'none';\n",
              "\n",
              "        async function convertToInteractive(key) {\n",
              "          const element = document.querySelector('#df-7a023ec9-4615-4b22-acbb-ff005e29c89d');\n",
              "          const dataTable =\n",
              "            await google.colab.kernel.invokeFunction('convertToInteractive',\n",
              "                                                     [key], {});\n",
              "          if (!dataTable) return;\n",
              "\n",
              "          const docLinkHtml = 'Like what you see? Visit the ' +\n",
              "            '<a target=\"_blank\" href=https://colab.research.google.com/notebooks/data_table.ipynb>data table notebook</a>'\n",
              "            + ' to learn more about interactive tables.';\n",
              "          element.innerHTML = '';\n",
              "          dataTable['output_type'] = 'display_data';\n",
              "          await google.colab.output.renderOutput(dataTable, element);\n",
              "          const docLink = document.createElement('div');\n",
              "          docLink.innerHTML = docLinkHtml;\n",
              "          element.appendChild(docLink);\n",
              "        }\n",
              "      </script>\n",
              "    </div>\n",
              "  </div>\n",
              "  "
            ]
          },
          "metadata": {},
          "execution_count": 28
        }
      ]
    },
    {
      "cell_type": "markdown",
      "source": [
        "# Step 5: Perform data segmentation"
      ],
      "metadata": {
        "id": "ppmbhEUgZ99_"
      }
    },
    {
      "cell_type": "code",
      "source": [
        "from sklearn.model_selection import train_test_split\n",
        "\n",
        "Y = One_Hot_Dataset[\"price\"]\n",
        "X = One_Hot_Dataset.drop([\"price\"], axis=1)\n",
        "\n",
        "X_train, X_test, Y_train, Y_test = train_test_split(X, Y, test_size=0.2)\n",
        "print(X_train.shape)\n",
        "print(Y_train.shape)\n",
        "print(X_test.shape)\n",
        "print(Y_test.shape)"
      ],
      "metadata": {
        "colab": {
          "base_uri": "https://localhost:8080/"
        },
        "id": "oxKwrfHlZ_JT",
        "outputId": "3379edb8-942f-49c6-c9cf-5061b0421ace"
      },
      "execution_count": null,
      "outputs": [
        {
          "output_type": "stream",
          "name": "stdout",
          "text": [
            "(3638, 136)\n",
            "(3638,)\n",
            "(910, 136)\n",
            "(910,)\n"
          ]
        }
      ]
    },
    {
      "cell_type": "markdown",
      "source": [
        "# Step 6: Perform Feature Scaling"
      ],
      "metadata": {
        "id": "IEHZ004DaMnw"
      }
    },
    {
      "cell_type": "code",
      "source": [
        "from sklearn.preprocessing import MinMaxScaler\n",
        "from sklearn.preprocessing import StandardScaler\n",
        "\n",
        "# Get the numerical data of Training Dataset and Testing Dataset.\n",
        "X_train_numerical = X_train[numerical_attributes]\n",
        "X_test_numerical = X_test[numerical_attributes]\n",
        "\n",
        "# Use only the training dataset to find the mapping rule.\n",
        "# Because when training or Feature Scaling, only existing data can be used, and the test data set is regarded as future data.\n",
        "x_scaler = MinMaxScaler().fit(X_train_numerical)\n",
        "\n",
        "# Use scaler to transform the numerical data of the training and testing datasets.\n",
        "X_train_numerical_trans = x_scaler.transform(X_train_numerical)\n",
        "X_test_numerical_trans = x_scaler.transform(X_test_numerical)\n",
        "\n",
        "# Overwrite the data of the numerical field, the old data range is different, and the contribution of each field is different during training.\n",
        "X_train[numerical_attributes] = X_train_numerical_trans\n",
        "X_test[numerical_attributes] = X_test_numerical_trans\n",
        "\n",
        "# Do Feature Scaling for Y, because in the SVM model line graph, \n",
        "# the distance between each point and the line must be within 1, \n",
        "# but the original Y range is too large.\n",
        "y_scaler = StandardScaler().fit(Y_train.to_numpy().reshape(-1,1)) # function requires 2D\n",
        "Y_train_trans = y_scaler.transform(Y_train.to_numpy().reshape(-1,1))\n",
        "Y_test_trans = y_scaler.transform(Y_test.to_numpy().reshape(-1,1))"
      ],
      "metadata": {
        "id": "a4GSwdk-aNcJ"
      },
      "execution_count": null,
      "outputs": []
    },
    {
      "cell_type": "markdown",
      "source": [
        "# Step 7: Fit the support vector regression model"
      ],
      "metadata": {
        "id": "7xQNyDma1v8k"
      }
    },
    {
      "cell_type": "code",
      "source": [
        "from sklearn.svm import SVR\n",
        "\n",
        "# Train a Polynomial Regression Model\n",
        "# parameter\n",
        "# kernel: \"rbf\", \"sigmoid\", \"polynomial\"\n",
        "# c: ... 0.01, 0.1, 1, 10, 100, ...\n",
        "# gamma: ..., 0.01, 0.1, 1, 10, 100, ...\n",
        "# degree: # This parameter needs to be set when using polynomial kernal\n",
        "# \n",
        "#SVR_Algorithm = SVR(kernel=\"poly\", C=10, gamma=0.1, degree=3)\n",
        "SVR_Algorithm = SVR(kernel=\"rbf\", C=10, gamma=0.1)\n",
        "SVR_Model = SVR_Algorithm.fit(X_train, Y_train_trans.reshape(-1)) # function requires 2D"
      ],
      "metadata": {
        "id": "7NgXxYJx1qIL"
      },
      "execution_count": null,
      "outputs": []
    },
    {
      "cell_type": "markdown",
      "source": [
        "# Step 8: Predict and evaluate"
      ],
      "metadata": {
        "id": "5u_ZuTo74rvy"
      }
    },
    {
      "cell_type": "code",
      "source": [
        "# Make predictions using the trained support vector regression model (on validation dataset).\n",
        "SVR_Predictions = SVR_Model.predict(X_test)\n",
        "\n",
        "# Remember to do an inverse transform on the predicted values.\n",
        "SVR_Predictions_inv = y_scaler.inverse_transform(SVR_Predictions.reshape(-1,1))\n",
        "Y_test_inv = y_scaler.inverse_transform(Y_test_trans)\n",
        "\n",
        "Total_Error=0\n",
        "# Print out predictions and correct answers.\n",
        "counter = 0\n",
        "for pred, ans in zip(SVR_Predictions_inv.reshape(-1), Y_test_inv.reshape(-1)):\n",
        "  if counter < 50:\n",
        "    print(f\"第{counter}筆預測結果: {round(pred)} vs. 實際答案: {round(ans)}\")\n",
        "\n",
        "  # Pick out particularly unreasonable forecasts.\n",
        "  if abs(pred-ans) > 1e10:\n",
        "    print(f\"第{counter}筆預測值較為異常{round(pred)}，而答案為{round(ans)}\")\n",
        "  else:\n",
        "    Total_Error = Total_Error + (abs(pred-ans))\n",
        "  counter = counter + 1\n",
        "    \n",
        "print(f\"\\n平均誤差值是 {round(Total_Error/len(SVR_Predictions))}\")"
      ],
      "metadata": {
        "colab": {
          "base_uri": "https://localhost:8080/"
        },
        "id": "86aJgwTH4tXb",
        "outputId": "841f248f-8db2-4d04-e8a9-f5d775ac274c"
      },
      "execution_count": null,
      "outputs": [
        {
          "output_type": "stream",
          "name": "stdout",
          "text": [
            "第0筆預測結果: 609505 vs. 實際答案: 570000\n",
            "第1筆預測結果: 187240 vs. 實際答案: 215000\n",
            "第2筆預測結果: 335063 vs. 實際答案: 300000\n",
            "第3筆預測結果: 276033 vs. 實際答案: 219950\n",
            "第4筆預測結果: 345095 vs. 實際答案: 290000\n",
            "第5筆預測結果: 597836 vs. 實際答案: 579000\n",
            "第6筆預測結果: 1730914 vs. 實際答案: 2700000\n",
            "第7筆預測結果: 595426 vs. 實際答案: 660000\n",
            "第8筆預測結果: 230841 vs. 實際答案: 190000\n",
            "第9筆預測結果: 842760 vs. 實際答案: 739888\n",
            "第10筆預測結果: 206302 vs. 實際答案: 230000\n",
            "第11筆預測結果: 542863 vs. 實際答案: 510000\n",
            "第12筆預測結果: 321556 vs. 實際答案: 380000\n",
            "第13筆預測結果: 1261906 vs. 實際答案: 1225000\n",
            "第14筆預測結果: 344817 vs. 實際答案: 107500\n",
            "第15筆預測結果: 615737 vs. 實際答案: 657500\n",
            "第16筆預測結果: 702586 vs. 實際答案: 623000\n",
            "第17筆預測結果: 500498 vs. 實際答案: 440000\n",
            "第18筆預測結果: 583417 vs. 實際答案: 560000\n",
            "第19筆預測結果: 222821 vs. 實際答案: 174500\n",
            "第20筆預測結果: 493611 vs. 實際答案: 530000\n",
            "第21筆預測結果: 403229 vs. 實際答案: 315000\n",
            "第22筆預測結果: 516217 vs. 實際答案: 430000\n",
            "第23筆預測結果: 321449 vs. 實際答案: 329445\n",
            "第24筆預測結果: 518639 vs. 實際答案: 551000\n",
            "第25筆預測結果: 594155 vs. 實際答案: 592500\n",
            "第26筆預測結果: 293148 vs. 實際答案: 350000\n",
            "第27筆預測結果: 887614 vs. 實際答案: 890000\n",
            "第28筆預測結果: 557980 vs. 實際答案: 554000\n",
            "第29筆預測結果: 253967 vs. 實際答案: 241000\n",
            "第30筆預測結果: 877490 vs. 實際答案: 820000\n",
            "第31筆預測結果: 428428 vs. 實際答案: 410000\n",
            "第32筆預測結果: 209933 vs. 實際答案: 195000\n",
            "第33筆預測結果: 258044 vs. 實際答案: 320000\n",
            "第34筆預測結果: 448538 vs. 實際答案: 465000\n",
            "第35筆預測結果: 678143 vs. 實際答案: 585000\n",
            "第36筆預測結果: 480691 vs. 實際答案: 463000\n",
            "第37筆預測結果: 517801 vs. 實際答案: 618080\n",
            "第38筆預測結果: 291892 vs. 實際答案: 250000\n",
            "第39筆預測結果: 390474 vs. 實際答案: 371500\n",
            "第40筆預測結果: 358141 vs. 實際答案: 272000\n",
            "第41筆預測結果: 467111 vs. 實際答案: 375000\n",
            "第42筆預測結果: 311513 vs. 實際答案: 258125\n",
            "第43筆預測結果: 574030 vs. 實際答案: 577000\n",
            "第44筆預測結果: 885463 vs. 實際答案: 2110000\n",
            "第45筆預測結果: 893376 vs. 實際答案: 860000\n",
            "第46筆預測結果: 348486 vs. 實際答案: 280000\n",
            "第47筆預測結果: 590090 vs. 實際答案: 464000\n",
            "第48筆預測結果: 483212 vs. 實際答案: 385000\n",
            "第49筆預測結果: 439848 vs. 實際答案: 500000\n",
            "\n",
            "平均誤差值是 94969\n"
          ]
        }
      ]
    },
    {
      "cell_type": "markdown",
      "source": [
        "# Step 9: Experiment with different parameter combinations"
      ],
      "metadata": {
        "id": "ub5Wn19u5dK8"
      }
    },
    {
      "cell_type": "code",
      "source": [
        "def test_SVR_parameter(kernel, C, gamma):\n",
        "  # Instantiated algorithm\n",
        "  SVR_Algorithm = SVR(kernel=kernel, C=C, gamma=gamma)\n",
        "\n",
        "  # Train the model\n",
        "  SVR_Model = SVR_Algorithm.fit(X_train, Y_train_trans.reshape(-1))\n",
        "\n",
        "  # Evaluation model\n",
        "  # Prediction using a trained support vector regression model (on validation dataset).\n",
        "  SVR_Predictions = SVR_Model.predict(X_test)\n",
        "\n",
        "  # Remember to do an inverse transform on the predicted values.\n",
        "  SVR_Predictions_inv = y_scaler.inverse_transform(SVR_Predictions.reshape(-1,1))\n",
        "  Y_test_inv = y_scaler.inverse_transform(Y_test_trans)\n",
        "\n",
        "  Total_Error=0\n",
        "  # Print out predictions and correct answers.\n",
        "  counter = 0\n",
        "  for pred, ans in zip(SVR_Predictions_inv.reshape(-1), Y_test_inv.reshape(-1)):\n",
        "    # if counter < 50:\n",
        "    #   print(f\"第{counter}筆預測結果: {round(pred)} vs. 實際答案: {round(ans)}\")\n",
        "\n",
        "    # Pick out particularly unreasonable forecasts.\n",
        "    if abs(pred-ans) > 1e10:\n",
        "      print(f\"第{counter}筆預測值較為異常{round(pred)}，而答案為{round(ans)}\")\n",
        "    else:\n",
        "      Total_Error = Total_Error + (abs(pred-ans))\n",
        "    counter = counter + 1\n",
        "      \n",
        "  print(f\"\\n[C={C}, Gamma={gamma}]平均誤差值是 {round(Total_Error/len(SVR_Predictions))}\")"
      ],
      "metadata": {
        "id": "87RvPfPZ5eFb"
      },
      "execution_count": null,
      "outputs": []
    },
    {
      "cell_type": "code",
      "source": [
        "kernel = \"rbf\"\n",
        "C_list = [0.01, 0.1, 1, 10, 100]\n",
        "Gamma_list = [0.01, 0.1, 1, 10, 100]\n",
        "for C in C_list:\n",
        "  for Gamma in Gamma_list:\n",
        "    test_SVR_parameter(kernel, C, Gamma)"
      ],
      "metadata": {
        "colab": {
          "base_uri": "https://localhost:8080/"
        },
        "id": "-B2XWyEr6EC4",
        "outputId": "7e4a82e3-a42c-400e-f0dc-d8fa2b676815"
      },
      "execution_count": null,
      "outputs": [
        {
          "output_type": "stream",
          "name": "stdout",
          "text": [
            "\n",
            "[C=0.01, Gamma=0.01]平均誤差值是 233586\n",
            "\n",
            "[C=0.01, Gamma=0.1]平均誤差值是 198048\n",
            "\n",
            "[C=0.01, Gamma=1]平均誤差值是 216056\n",
            "\n",
            "[C=0.01, Gamma=10]平均誤差值是 235185\n",
            "\n",
            "[C=0.01, Gamma=100]平均誤差值是 240620\n",
            "\n",
            "[C=0.1, Gamma=0.01]平均誤差值是 182388\n",
            "\n",
            "[C=0.1, Gamma=0.1]平均誤差值是 124410\n",
            "\n",
            "[C=0.1, Gamma=1]平均誤差值是 155486\n",
            "\n",
            "[C=0.1, Gamma=10]平均誤差值是 204217\n",
            "\n",
            "[C=0.1, Gamma=100]平均誤差值是 234549\n",
            "\n",
            "[C=1, Gamma=0.01]平均誤差值是 117381\n",
            "\n",
            "[C=1, Gamma=0.1]平均誤差值是 101231\n",
            "\n",
            "[C=1, Gamma=1]平均誤差值是 118540\n",
            "\n",
            "[C=1, Gamma=10]平均誤差值是 170059\n",
            "\n",
            "[C=1, Gamma=100]平均誤差值是 222718\n",
            "\n",
            "[C=10, Gamma=0.01]平均誤差值是 103395\n",
            "\n",
            "[C=10, Gamma=0.1]平均誤差值是 94969\n",
            "\n",
            "[C=10, Gamma=1]平均誤差值是 119863\n",
            "\n",
            "[C=10, Gamma=10]平均誤差值是 169304\n",
            "\n",
            "[C=10, Gamma=100]平均誤差值是 229564\n",
            "\n",
            "[C=100, Gamma=0.01]平均誤差值是 96630\n",
            "\n",
            "[C=100, Gamma=0.1]平均誤差值是 104015\n",
            "\n",
            "[C=100, Gamma=1]平均誤差值是 126883\n",
            "\n",
            "[C=100, Gamma=10]平均誤差值是 172274\n",
            "\n",
            "[C=100, Gamma=100]平均誤差值是 230098\n"
          ]
        }
      ]
    }
  ]
}